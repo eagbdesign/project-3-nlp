{
  "nbformat": 4,
  "nbformat_minor": 0,
  "metadata": {
    "colab": {
      "provenance": []
    },
    "kernelspec": {
      "name": "python3",
      "display_name": "Python 3"
    },
    "language_info": {
      "name": "python"
    }
  },
  "cells": [
    {
      "cell_type": "markdown",
      "source": [
        "#Training and Testing Support Vector Machine"
      ],
      "metadata": {
        "id": "8agxDbStk0XE"
      }
    },
    {
      "cell_type": "markdown",
      "source": [
        "### Importing and Loading"
      ],
      "metadata": {
        "id": "qtVCiIH8lL07"
      }
    },
    {
      "cell_type": "code",
      "source": [
        "# Import resources\n",
        "import pandas as pd\n",
        "from sklearn.model_selection import train_test_split\n",
        "from sklearn.feature_extraction.text import TfidfVectorizer\n",
        "from sklearn.svm import SVC\n",
        "from sklearn.metrics import accuracy_score, classification_report\n",
        "from nltk.corpus import stopwords\n",
        "import re\n",
        "from nltk.stem import WordNetLemmatizer\n",
        "import nltk\n",
        "import matplotlib.pyplot as plt\n",
        "\n",
        "nltk.download('stopwords')\n",
        "nltk.download('wordnet')\n",
        "\n",
        "# Load dataset\n",
        "data = pd.read_csv(\"training_data_lowercase.csv\", sep=\"\\t\", header=None, names=[\"label\", \"text\"])"
      ],
      "metadata": {
        "colab": {
          "base_uri": "https://localhost:8080/"
        },
        "id": "jyMHoRNlkT40",
        "outputId": "09077413-f753-48f1-8f23-55f1c3d2332e"
      },
      "execution_count": 15,
      "outputs": [
        {
          "output_type": "stream",
          "name": "stderr",
          "text": [
            "[nltk_data] Downloading package stopwords to /root/nltk_data...\n",
            "[nltk_data]   Package stopwords is already up-to-date!\n",
            "[nltk_data] Downloading package wordnet to /root/nltk_data...\n",
            "[nltk_data]   Package wordnet is already up-to-date!\n"
          ]
        }
      ]
    },
    {
      "cell_type": "markdown",
      "source": [
        "### Cleaning Dataframe"
      ],
      "metadata": {
        "id": "U_o5NJ5DlSPz"
      }
    },
    {
      "cell_type": "code",
      "source": [
        "# Preprocessing function\n",
        "def preprocess_text(text):\n",
        "    stop_words = set(stopwords.words('english'))\n",
        "    lemmatizer = WordNetLemmatizer()\n",
        "    text = re.sub(r'\\W', ' ', text)  # Remove non-alphanumeric characters\n",
        "    words = text.split()  # Simple split for tokenization\n",
        "    words = [lemmatizer.lemmatize(word) for word in words if word not in stop_words]\n",
        "    return ' '.join(words)\n",
        "\n",
        "# Apply preprocessing\n",
        "data['text'] = data['text'].apply(preprocess_text)\n",
        "\n",
        "# Convert labels to integers\n",
        "data['label'] = data['label'].astype(int)\n",
        "\n",
        "# Split dataset\n",
        "X_train, X_test, y_train, y_test = train_test_split(data['text'], data['label'], test_size=0.3, random_state=42)\n",
        "\n",
        "# TF-IDF Vectorization\n",
        "tfidf_vectorizer = TfidfVectorizer(ngram_range=(1, 2), max_features=10000)\n",
        "X_train_tfidf = tfidf_vectorizer.fit_transform(X_train)\n",
        "X_test_tfidf = tfidf_vectorizer.transform(X_test)"
      ],
      "metadata": {
        "id": "3jUzj8CukatQ"
      },
      "execution_count": 16,
      "outputs": []
    },
    {
      "cell_type": "markdown",
      "source": [
        "### Training Model"
      ],
      "metadata": {
        "id": "2J5j2jYulhnW"
      }
    },
    {
      "cell_type": "code",
      "source": [
        "# Simplified SVM Model\n",
        "svm = SVC(kernel='linear', random_state=42)\n",
        "svm.fit(X_train_tfidf, y_train)\n",
        "\n",
        "# Predictions\n",
        "svm_train_pred = svm.predict(X_train_tfidf)\n",
        "svm_test_pred = svm.predict(X_test_tfidf)\n",
        "\n",
        "# Evaluation\n",
        "svm_train_accuracy = accuracy_score(y_train, svm_train_pred)\n",
        "svm_test_accuracy = accuracy_score(y_test, svm_test_pred)\n",
        "svm_report = classification_report(y_test, svm_test_pred)"
      ],
      "metadata": {
        "id": "9xctAVWskfb9"
      },
      "execution_count": 17,
      "outputs": []
    },
    {
      "cell_type": "markdown",
      "source": [
        "### Model Results"
      ],
      "metadata": {
        "id": "0OpF9mzrlosf"
      }
    },
    {
      "cell_type": "code",
      "source": [
        "# Output Results\n",
        "print(\"SVM Results:\")\n",
        "print(f\"Training Accuracy: {svm_train_accuracy:.2f}\")\n",
        "print(f\"Testing Accuracy: {svm_test_accuracy:.2f}\")\n",
        "print(\"Classification Report:\")\n",
        "print(svm_report)\n",
        "\n",
        "# Graphical Representation\n",
        "plt.figure(figsize=(8, 6))\n",
        "bars = ['Training Accuracy', 'Testing Accuracy']\n",
        "accuracy_values = [svm_train_accuracy, svm_test_accuracy]\n",
        "\n",
        "plt.bar(bars, accuracy_values, color=['blue', 'orange'])\n",
        "plt.ylim(0, 1)\n",
        "plt.ylabel('Accuracy')\n",
        "plt.title('SVM Training vs Testing Accuracy')\n",
        "plt.tight_layout()\n",
        "plt.show()"
      ],
      "metadata": {
        "colab": {
          "base_uri": "https://localhost:8080/",
          "height": 833
        },
        "id": "zjqAj5UukkV-",
        "outputId": "94cde6aa-5f9e-42cb-c4d5-d41d8beaa8a0"
      },
      "execution_count": 18,
      "outputs": [
        {
          "output_type": "stream",
          "name": "stdout",
          "text": [
            "SVM Results:\n",
            "Training Accuracy: 0.97\n",
            "Testing Accuracy: 0.94\n",
            "Classification Report:\n",
            "              precision    recall  f1-score   support\n",
            "\n",
            "           0       0.95      0.94      0.94      5295\n",
            "           1       0.93      0.95      0.94      4951\n",
            "\n",
            "    accuracy                           0.94     10246\n",
            "   macro avg       0.94      0.94      0.94     10246\n",
            "weighted avg       0.94      0.94      0.94     10246\n",
            "\n"
          ]
        },
        {
          "output_type": "display_data",
          "data": {
            "text/plain": [
              "<Figure size 800x600 with 1 Axes>"
            ],
            "image/png": "[encoded data removed]"
          },
          "metadata": {}
        }
      ]
    },
    {
      "cell_type": "markdown",
      "source": [
        "# Apply SVM to unlabeled data"
      ],
      "metadata": {
        "id": "OKQJ3-vwltOz"
      }
    },
    {
      "cell_type": "markdown",
      "source": [
        "\n",
        "### Clean Dataframe"
      ],
      "metadata": {
        "id": "rlJ4JFqpmmvf"
      }
    },
    {
      "cell_type": "code",
      "source": [
        "# Load the unlabeled data\n",
        "unlabeled_data = pd.read_csv(\"testing_data_lowercase_nolabels.csv\", sep=\"\\t\", header=None, names=[\"label\", \"text\"])\n",
        "data = pd.read_csv(\"training_data_lowercase.csv\", sep=\"\\t\", header=None, names=[\"label\", \"text\"])\n",
        "\n",
        "# Preprocess the text\n",
        "unlabeled_data['text'] = unlabeled_data['text'].apply(preprocess_text)\n",
        "\n",
        "# Transform the unlabeled data\n",
        "X_unlabeled_tfidf = tfidf_vectorizer.transform(unlabeled_data['text'])\n",
        "\n",
        "print(unlabeled_data.head)"
      ],
      "metadata": {
        "colab": {
          "base_uri": "https://localhost:8080/"
        },
        "id": "A9JkJyPbX5bA",
        "outputId": "1cf7f562-eae2-40ae-dd77-d30646607408"
      },
      "execution_count": 19,
      "outputs": [
        {
          "output_type": "stream",
          "name": "stdout",
          "text": [
            "<bound method NDFrame.head of      label                                               text\n",
            "0        2   copycat muslim terrorist arrested assault weapon\n",
            "1        2  wow chicago protester caught camera admits vio...\n",
            "2        2           germany fdp look fill schaeuble big shoe\n",
            "3        2  mi school sends welcome back packet warning ki...\n",
            "4        2  u n seek massive aid boost amid rohingya emerg...\n",
            "...    ...                                                ...\n",
            "9979     2  boom fox news leftist chris wallace attempt tr...\n",
            "9980     2  list democrat hypocrite voted filibuster gw bu...\n",
            "9981     2  new fire ravage rohingya village northwest mya...\n",
            "9982     2  meal wheel shuts lyin lefty truth moveon org f...\n",
            "9983     2  brilliant tucker carlson ayaan hirsi ali discu...\n",
            "\n",
            "[9984 rows x 2 columns]>\n"
          ]
        }
      ]
    },
    {
      "cell_type": "markdown",
      "source": [
        "### Run Model"
      ],
      "metadata": {
        "id": "UsWBnA9dmuzp"
      }
    },
    {
      "cell_type": "code",
      "source": [
        "# Predictions\n",
        "predicted_labels = svm.predict(X_unlabeled_tfidf)\n",
        "\n",
        "# Append predictions to the dataset\n",
        "unlabeled_data['predicted_label'] = predicted_labels\n",
        "\n",
        "# Map numerical labels to meaningful categories\n",
        "label_mapping = {0: \"Fake\", 1: \"True\"}\n",
        "unlabeled_data['predicted_label_category'] = unlabeled_data['predicted_label'].map(label_mapping)\n",
        "\n",
        "# Count label predictions for the categories\n",
        "label_counts = unlabeled_data['predicted_label_category'].value_counts()\n",
        "\n",
        "# Plot the distribution\n",
        "plt.figure(figsize=(8, 6))\n",
        "label_counts.plot(kind='bar', color=['red', 'green'])\n",
        "plt.title('Predicted Label Distribution (0 = Fake, 1 = True)')\n",
        "plt.xlabel('Labels')\n",
        "plt.ylabel('Count')\n",
        "plt.xticks(rotation=0)\n",
        "plt.tight_layout()\n",
        "plt.show()\n",
        "\n",
        "# Print the distribution counts with labels\n",
        "print(\"Predicted Label Distribution:\")\n",
        "print(label_counts)\n"
      ],
      "metadata": {
        "colab": {
          "base_uri": "https://localhost:8080/",
          "height": 694
        },
        "id": "d6cJe7aJWZuE",
        "outputId": "de9e92de-6be7-4ab7-b756-e46c17dd51cc"
      },
      "execution_count": 20,
      "outputs": [
        {
          "output_type": "display_data",
          "data": {
            "text/plain": [
              "<Figure size 800x600 with 1 Axes>"
            ],
            "image/png": "[encoded data removed]"
          },
          "metadata": {}
        },
        {
          "output_type": "stream",
          "name": "stdout",
          "text": [
            "Predicted Label Distribution:\n",
            "predicted_label_category\n",
            "True    5244\n",
            "Fake    4740\n",
            "Name: count, dtype: int64\n"
          ]
        }
      ]
    }
  ]
}