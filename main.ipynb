{
 "cells": [
  {
   "cell_type": "markdown",
   "metadata": {},
   "source": [
    "G1 Project 3"
   ]
  },
  {
   "cell_type": "markdown",
   "metadata": {},
   "source": [
    "Natural Language Processing Challenge\n",
    "\n",
    "Introduction\n",
    "Learning how to process text is a skill required for Data Scientists. In this project, you will put these skills into practice to identify whether a sentence was automatically translated or translated by a human.\n",
    "\n",
    "Project Overview\n",
    "In this repository you will find dataset containing sentences in Spanish and their tags: 0, if the sentences was translated by a Machine, 1, if the sentence was translated by a professional translator. Your goal is to build a classifier that is able to distinguish between the two.\n",
    "\n",
    "Guidance\n",
    "Like in a real life scenario, you are able to make your own choices and text treatment. Use the techniques you have learned and the common packages to process this data and classify the text.\n",
    "\n",
    "Deliverables\n",
    "Python Code: Provide well-documented Python code that conducts the analysis.\n",
    "Accuracy estimation: Provide the teacher with your estimation of how your model will perform.\n",
    "Classified Dataset: On Friday, you will receive a dataset without tags. Prepare your code to be able to tag that dataset."
   ]
  },
  {
   "cell_type": "markdown",
   "metadata": {},
   "source": [
    "1. Import"
   ]
  },
  {
   "cell_type": "code",
   "execution_count": 1,
   "metadata": {},
   "outputs": [],
   "source": [
    "import pandas as pd\n",
    "import re\n",
    "from sklearn.feature_extraction.text import TfidfVectorizer\n",
    "from sklearn.model_selection import train_test_split\n",
    "from sklearn.naive_bayes import MultinomialNB\n",
    "from sklearn.metrics import classification_report, accuracy_score"
   ]
  },
  {
   "cell_type": "markdown",
   "metadata": {},
   "source": [
    "2. Read Data"
   ]
  },
  {
   "cell_type": "code",
   "execution_count": 2,
   "metadata": {},
   "outputs": [
    {
     "name": "stdout",
     "output_type": "stream",
     "text": [
      "  0\\tdonald trump sends out embarrassing new year‚s eve message; this is disturbing\n",
      "0  0\\tdrunk bragging trump staffer started russia...                               \n",
      "1  0\\tsheriff david clarke becomes an internet jo...                               \n",
      "2  0\\ttrump is so obsessed he even has obama‚s na...                               \n",
      "3  0\\tpope francis just called out donald trump d...                               \n",
      "4  0\\tracist alabama cops brutalize black boy whi...                               \n",
      "(1000, 1)\n"
     ]
    }
   ],
   "source": [
    "# Read the dataset\n",
    "data = pd.read_csv('training_data_lowercase.csv')  # Dataset name\n",
    "print(data.head())\n",
    "\n",
    "# Reduce the dataset size to speed up development (optional)\n",
    "data = data.head(1000)  # Use a subset for faster development\n",
    "print(data.shape)\n",
    "\n",
    "# Handle missing values\n",
    "data.fillna('', inplace=True)"
   ]
  },
  {
   "cell_type": "markdown",
   "metadata": {},
   "source": []
  },
  {
   "cell_type": "markdown",
   "metadata": {},
   "source": [
    "3. Dividing Training and Test Set"
   ]
  },
  {
   "cell_type": "code",
   "execution_count": 3,
   "metadata": {},
   "outputs": [
    {
     "name": "stdout",
     "output_type": "stream",
     "text": [
      "   0  \\\n",
      "0  0   \n",
      "1  0   \n",
      "2  0   \n",
      "3  0   \n",
      "4  0   \n",
      "\n",
      "  donald trump sends out embarrassing new year‚s eve message; this is disturbing  \n",
      "0  drunk bragging trump staffer started russian c...                              \n",
      "1  sheriff david clarke becomes an internet joke ...                              \n",
      "2  trump is so obsessed he even has obama‚s name ...                              \n",
      "3  pope francis just called out donald trump duri...                              \n",
      "4  racist alabama cops brutalize black boy while ...                              \n",
      "Index(['0', 'donald trump sends out embarrassing new year‚s eve message; this is disturbing'], dtype='object')\n",
      "   label                                           sentence\n",
      "0      0  drunk bragging trump staffer started russian c...\n",
      "1      0  sheriff david clarke becomes an internet joke ...\n",
      "2      0  trump is so obsessed he even has obama‚s name ...\n",
      "3      0  pope francis just called out donald trump duri...\n",
      "4      0  racist alabama cops brutalize black boy while ...\n"
     ]
    }
   ],
   "source": [
    "# Confirm if the file will always use tab as a delimiter.\n",
    "file_path = 'training_data_lowercase.csv'\n",
    "data = pd.read_csv(file_path, delimiter='\\t')\n",
    "\n",
    "# Add exception handling for file issues.\n",
    "print(data.head())\n",
    "print(data.columns)\n",
    "\n",
    "# Explain why these column names were chosen.\n",
    "data.columns = ['label', 'sentence']\n",
    "                \n",
    "# Check original column names before renaming.\n",
    "print(data.head())\n",
    "\n",
    "# Note how X and y will be used.\n",
    "X = data['sentence']  # text news\n",
    "y = data['label']     # labels: 0 = Fake News, 1 = Real News"
   ]
  },
  {
   "cell_type": "markdown",
   "metadata": {},
   "source": [
    "True News"
   ]
  },
  {
   "cell_type": "code",
   "execution_count": 4,
   "metadata": {},
   "outputs": [
    {
     "name": "stdout",
     "output_type": "stream",
     "text": [
      "       label                                           sentence\n",
      "17571      1  as u.s. budget fight looms\\trepublicans flip t...\n",
      "17572      1  u.s. military to accept transgender recruits o...\n",
      "17573      1  senior u.s. republican senator: 'let mr. muell...\n",
      "17574      1  fbi russia probe helped by australian diplomat...\n",
      "17575      1  trump wants postal service to charge 'much mor...\n"
     ]
    }
   ],
   "source": [
    "# Filter news with label 1 (True/Real News)\n",
    "true_news = data[data['label'] == 1]\n",
    "\n",
    "# Display the first 5 true news items\n",
    "print(true_news.head(5))"
   ]
  },
  {
   "cell_type": "markdown",
   "metadata": {},
   "source": [
    "4. Data Preprocessing"
   ]
  },
  {
   "cell_type": "code",
   "execution_count": 5,
   "metadata": {},
   "outputs": [
    {
     "name": "stdout",
     "output_type": "stream",
     "text": [
      "Punctuation: !\"#$%&'()*+,-./:;<=>?@[\\]^_`{|}~\n",
      "Sample Stopwords: ['here', 'there', 'when', 'where', 'why', 'how', 'all', 'any', 'both', 'each']\n"
     ]
    }
   ],
   "source": [
    "from sklearn.model_selection import train_test_split\n",
    "import string\n",
    "from nltk.corpus import stopwords\n",
    "from nltk.stem.snowball import SnowballStemmer\n",
    "import re\n",
    "\n",
    "# Split features (X) and labels (y)\n",
    "X = data['sentence']  # Texto de las noticias\n",
    "y = data['label']     # Etiquetas: 0 = Fake News, 1 = Real News\n",
    "\n",
    "# Split the data into training and testing sets\n",
    "X_train, X_test, y_train, y_test = train_test_split(X, y, test_size=0.2, random_state=42, stratify=y)\n",
    "\n",
    "# Display score and example words\n",
    "print(\"Punctuation:\", string.punctuation)\n",
    "print(\"Sample Stopwords:\", stopwords.words(\"english\")[100:110])"
   ]
  },
  {
   "cell_type": "markdown",
   "metadata": {},
   "source": [
    "5. Lemmatization"
   ]
  },
  {
   "cell_type": "code",
   "execution_count": 6,
   "metadata": {},
   "outputs": [
    {
     "name": "stderr",
     "output_type": "stream",
     "text": [
      "[nltk_data] Downloading package wordnet to\n",
      "[nltk_data]     /Users/yanaquefinkbeiner/nltk_data...\n",
      "[nltk_data]   Package wordnet is already up-to-date!\n",
      "[nltk_data] Downloading package omw-1.4 to\n",
      "[nltk_data]     /Users/yanaquefinkbeiner/nltk_data...\n",
      "[nltk_data]   Package omw-1.4 is already up-to-date!\n"
     ]
    },
    {
     "name": "stdout",
     "output_type": "stream",
     "text": [
      "Sample Preprocessed Text:\n",
      " 1847     paul ryan make perfect argument for medicare f...\n",
      "3457     evan mcmullin issue dire warning for all ameri...\n",
      "23069           iraq say will stay clear of usiran tension\n",
      "29487    turkey erdogan say will take jerusalem resolut...\n",
      "6624     bill maher insult trump supposed masculinity a...\n",
      "Name: sentence, dtype: object\n"
     ]
    }
   ],
   "source": [
    "import nltk\n",
    "nltk.download('wordnet') # Download necessary resource\n",
    "nltk.download('omw-1.4')  # Download additional data for WordNet\n",
    "\n",
    "\n",
    "# Initialize the lemmatizer\n",
    "\n",
    "from nltk.stem import WordNetLemmatizer\n",
    "lemmatizer = WordNetLemmatizer()\n",
    "\n",
    "# Function to clean text using lemmatization\n",
    "def preprocess_text(text):\n",
    "    text = re.sub(r'<.*?>', '', text)  # Remove HTML tags\n",
    "    text = re.sub(r'[^\\w\\s]', '', text)  # Remove special characters\n",
    "    text = re.sub(r'\\d+', '', text)  # Remove numbers\n",
    "    text = re.sub(r'\\b\\w\\b', '', text)  # Remove single characters\n",
    "    text = re.sub(r'\\s+', ' ', text).strip()  # Replace multiple spaces with a single one\n",
    "    text = text.lower()  # Convert to lowercase\n",
    "\n",
    "    # Apply lemmatization to each word\n",
    "    return \" \".join([lemmatizer.lemmatize(word) for word in text.split()])\n",
    "\n",
    "# Apply preprocessing to training and testing data\n",
    "X_train = X_train.apply(preprocess_text)\n",
    "X_test = X_test.apply(preprocess_text)\n",
    "\n",
    "print(\"Sample Preprocessed Text:\\n\", X_train.head())"
   ]
  },
  {
   "cell_type": "markdown",
   "metadata": {},
   "source": [
    "6. Bag Of Words (*)"
   ]
  },
  {
   "cell_type": "code",
   "execution_count": 7,
   "metadata": {},
   "outputs": [
    {
     "name": "stdout",
     "output_type": "stream",
     "text": [
      "Top 10 Words in Fake News: [('trump', 5728), ('to', 5196), ('video', 4415), ('the', 3527), ('of', 2723), ('for', 2716), ('in', 2414), ('on', 2010), ('and', 1699), ('is', 1553)]\n",
      "Top 10 Words in Real News: [('to', 4882), ('trump', 4142), ('u', 2840), ('in', 2603), ('on', 2149), ('say', 1958), ('of', 1779), ('for', 1711), ('house', 1151), ('with', 918)]\n"
     ]
    }
   ],
   "source": [
    "from collections import Counter\n",
    "\n",
    "# Get top 10 words in fake and real news\n",
    "fake_words = \" \".join(X_train[y_train == 0]).split()\n",
    "real_words = \" \".join(X_train[y_train == 1]).split()\n",
    "\n",
    "fake_top10 = Counter(fake_words).most_common(10)\n",
    "real_top10 = Counter(real_words).most_common(10)\n",
    "\n",
    "print(\"Top 10 Words in Fake News:\", fake_top10)\n",
    "print(\"Top 10 Words in Real News:\", real_top10)"
   ]
  },
  {
   "cell_type": "markdown",
   "metadata": {},
   "source": [
    "7. Extra features (fake news & check for SPAM news)"
   ]
  },
  {
   "cell_type": "code",
   "execution_count": 8,
   "metadata": {},
   "outputs": [
    {
     "name": "stdout",
     "output_type": "stream",
     "text": [
      "Sample Data with Extra Features:\n",
      "    label                                           sentence  money_mark  \\\n",
      "0      0  drunk bragging trump staffer started russian c...           1   \n",
      "1      0  sheriff david clarke becomes an internet joke ...           1   \n",
      "2      0  trump is so obsessed he even has obama‚s name ...           1   \n",
      "3      0  pope francis just called out donald trump duri...           1   \n",
      "4      0  racist alabama cops brutalize black boy while ...           1   \n",
      "\n",
      "   suspicious_words  text_len  \n",
      "0                 0        68  \n",
      "1                 0        89  \n",
      "2                 0        77  \n",
      "3                 0        69  \n",
      "4                 0        81  \n"
     ]
    }
   ],
   "source": [
    "money_symbols = \"|\".join([\"euro\", \"dollar\", \"pound\", \"€\", \"$\"])\n",
    "suspicious_words = \"|\".join([\"free\", \"cheap\", \"money\", \"account\", \"bank\", \"fund\", \"win\", \"password\"])\n",
    "\n",
    "data['money_mark'] = data['sentence'].str.contains(money_symbols, case=False) * 1\n",
    "data['suspicious_words'] = data['sentence'].str.contains(suspicious_words, case=False) * 1\n",
    "data['text_len'] = data['sentence'].apply(lambda x: len(x))\n",
    "\n",
    "print(\"Sample Data with Extra Features:\\n\", data.head())"
   ]
  },
  {
   "cell_type": "markdown",
   "metadata": {},
   "source": [
    "8. Count Vectorizer work"
   ]
  },
  {
   "cell_type": "code",
   "execution_count": 9,
   "metadata": {},
   "outputs": [
    {
     "data": {
      "text/plain": [
       "'from sklearn.feature_extraction.text import CountVectorizer\\n\\n# Initialize CountVectorizer\\ncount_vectorizer = CountVectorizer(max_features=1000, ngram_range=(1, 2))\\nX_train_count = count_vectorizer.fit_transform(X_train)\\nX_test_count = count_vectorizer.transform(X_test)\\n\\nprint(\"Count Vectorized Data Shape:\", X_train_count.shape)'"
      ]
     },
     "execution_count": 9,
     "metadata": {},
     "output_type": "execute_result"
    }
   ],
   "source": [
    "'''from sklearn.feature_extraction.text import CountVectorizer\n",
    "\n",
    "# Initialize CountVectorizer\n",
    "count_vectorizer = CountVectorizer(max_features=1000, ngram_range=(1, 2))\n",
    "X_train_count = count_vectorizer.fit_transform(X_train)\n",
    "X_test_count = count_vectorizer.transform(X_test)\n",
    "\n",
    "print(\"Count Vectorized Data Shape:\", X_train_count.shape)'''"
   ]
  },
  {
   "cell_type": "markdown",
   "metadata": {},
   "source": [
    "9. TF-IDF (*)"
   ]
  },
  {
   "cell_type": "code",
   "execution_count": 10,
   "metadata": {},
   "outputs": [
    {
     "name": "stdout",
     "output_type": "stream",
     "text": [
      "TF-IDF Data Shape: (27320, 1000)\n"
     ]
    }
   ],
   "source": [
    "from sklearn.feature_extraction.text import TfidfVectorizer\n",
    "\n",
    "# Initialize TF-IDF Vectorizer\n",
    "tfidf = TfidfVectorizer(max_features=1000, ngram_range=(1, 2))\n",
    "\n",
    "# Fit and transform the training data\n",
    "X_train_tfidf = tfidf.fit_transform(X_train)\n",
    "\n",
    "# Transform the test data\n",
    "X_test_tfidf = tfidf.transform(X_test)\n",
    "\n",
    "print(\"TF-IDF Data Shape:\", X_train_tfidf.shape)"
   ]
  },
  {
   "cell_type": "markdown",
   "metadata": {},
   "source": [
    "10. Train a Classifier"
   ]
  },
  {
   "cell_type": "markdown",
   "metadata": {},
   "source": [
    "10. 1 Naiv Bayes"
   ]
  },
  {
   "cell_type": "code",
   "execution_count": 11,
   "metadata": {},
   "outputs": [
    {
     "name": "stdout",
     "output_type": "stream",
     "text": [
      "Accuracy: 0.9070414287805593\n",
      "Classification Report:\n",
      "               precision    recall  f1-score   support\n",
      "\n",
      "           0       0.90      0.92      0.91      3515\n",
      "           1       0.91      0.89      0.90      3316\n",
      "\n",
      "    accuracy                           0.91      6831\n",
      "   macro avg       0.91      0.91      0.91      6831\n",
      "weighted avg       0.91      0.91      0.91      6831\n",
      "\n"
     ]
    }
   ],
   "source": [
    "from sklearn.naive_bayes import MultinomialNB\n",
    "from sklearn.metrics import classification_report, accuracy_score\n",
    "\n",
    "# Train a Naive Bayes Classifier\n",
    "model = MultinomialNB()\n",
    "model.fit(X_train_tfidf, y_train)\n",
    "\n",
    "# Predict on the test set\n",
    "y_pred = model.predict(X_test_tfidf)\n",
    "\n",
    "# Evaluate the model\n",
    "print(\"Accuracy:\", accuracy_score(y_test, y_pred))\n",
    "print(\"Classification Report:\\n\", classification_report(y_test, y_pred))"
   ]
  },
  {
   "cell_type": "markdown",
   "metadata": {},
   "source": [
    "10. 2 Logistic Regression"
   ]
  },
  {
   "cell_type": "code",
   "execution_count": 12,
   "metadata": {},
   "outputs": [
    {
     "name": "stdout",
     "output_type": "stream",
     "text": [
      "Logistic Regression:\n",
      "Accuracy: 0.9210950080515298\n",
      "Classification Report:\n",
      "               precision    recall  f1-score   support\n",
      "\n",
      "           0       0.93      0.91      0.92      3515\n",
      "           1       0.91      0.93      0.92      3316\n",
      "\n",
      "    accuracy                           0.92      6831\n",
      "   macro avg       0.92      0.92      0.92      6831\n",
      "weighted avg       0.92      0.92      0.92      6831\n",
      "\n"
     ]
    }
   ],
   "source": [
    "from sklearn.linear_model import LogisticRegression\n",
    "from sklearn.ensemble import RandomForestClassifier\n",
    "from sklearn.metrics import classification_report, accuracy_score\n",
    "\n",
    "# Logistic Regression\n",
    "logistic_model = LogisticRegression(max_iter=1000, random_state=42)\n",
    "logistic_model.fit(X_train_tfidf, y_train)\n",
    "\n",
    "# Predict with Logistic Regression\n",
    "y_pred_logistic = logistic_model.predict(X_test_tfidf)\n",
    "\n",
    "# Evaluate Logistic Regression\n",
    "print(\"Logistic Regression:\")\n",
    "print(\"Accuracy:\", accuracy_score(y_test, y_pred_logistic))\n",
    "print(\"Classification Report:\\n\", classification_report(y_test, y_pred_logistic))\n"
   ]
  },
  {
   "cell_type": "markdown",
   "metadata": {},
   "source": [
    "10. 3 Random Forest"
   ]
  },
  {
   "cell_type": "code",
   "execution_count": 13,
   "metadata": {},
   "outputs": [
    {
     "name": "stdout",
     "output_type": "stream",
     "text": [
      "\n",
      "Random Forest:\n",
      "Accuracy: 0.9079197774849949\n",
      "Classification Report:\n",
      "               precision    recall  f1-score   support\n",
      "\n",
      "           0       0.91      0.92      0.91      3515\n",
      "           1       0.91      0.90      0.90      3316\n",
      "\n",
      "    accuracy                           0.91      6831\n",
      "   macro avg       0.91      0.91      0.91      6831\n",
      "weighted avg       0.91      0.91      0.91      6831\n",
      "\n"
     ]
    }
   ],
   "source": [
    "# Random Forest\n",
    "random_forest_model = RandomForestClassifier(random_state=42, n_estimators=100)\n",
    "random_forest_model.fit(X_train_tfidf, y_train)\n",
    "\n",
    "# Predict with Random Forest\n",
    "y_pred_rf = random_forest_model.predict(X_test_tfidf)\n",
    "\n",
    "# Evaluate Random Forest\n",
    "print(\"\\nRandom Forest:\")\n",
    "print(\"Accuracy:\", accuracy_score(y_test, y_pred_rf))\n",
    "print(\"Classification Report:\\n\", classification_report(y_test, y_pred_rf))"
   ]
  },
  {
   "cell_type": "markdown",
   "metadata": {},
   "source": [
    "11. Resume 3  models accuracy"
   ]
  },
  {
   "cell_type": "markdown",
   "metadata": {},
   "source": [
    "Model Results\n",
    "\n",
    "Naive Bayes:\n",
    "Accuracy: 90.69%. It's fast and simple but slightly less accurate than the others.\n",
    "F1-scores are 0.90-0.91, meaning it works well but not the best.\n",
    "\n",
    "Logistic Regression:\n",
    "Accuracy: 92.12%. This is the best model in accuracy.\n",
    "F1-scores are 0.92 for both classes, showing very balanced and reliable performance.\n",
    "\n",
    "Random Forest:\n",
    "Accuracy: 91.05%. It's good but not better than Logistic Regression.\n",
    "F1-scores are 0.91, close to Logistic Regression but slightly lower.\n",
    "\n",
    "Summary\n",
    "Logistic Regression is the best model because it has the highest accuracy (92.12%) and performs equally well for both fake and real news. 😊"
   ]
  },
  {
   "cell_type": "markdown",
   "metadata": {},
   "source": [
    "12. Confusion Matrix 3 "
   ]
  },
  {
   "cell_type": "code",
   "execution_count": 14,
   "metadata": {},
   "outputs": [
    {
     "data": {
      "image/png": "[encoded data removed]",
      "text/plain": [
       "<Figure size 640x480 with 2 Axes>"
      ]
     },
     "metadata": {},
     "output_type": "display_data"
    },
    {
     "data": {
      "image/png": "[encoded data removed]",
      "text/plain": [
       "<Figure size 640x480 with 2 Axes>"
      ]
     },
     "metadata": {},
     "output_type": "display_data"
    },
    {
     "data": {
      "image/png": "[encoded data removed]",
      "text/plain": [
       "<Figure size 640x480 with 2 Axes>"
      ]
     },
     "metadata": {},
     "output_type": "display_data"
    }
   ],
   "source": [
    "import matplotlib.pyplot as plt\n",
    "from sklearn.metrics import confusion_matrix, ConfusionMatrixDisplay\n",
    "\n",
    "# Function to plot confusion matrix\n",
    "def plot_confusion_matrix(y_true, y_pred, title):\n",
    "    cm = confusion_matrix(y_true, y_pred)\n",
    "    disp = ConfusionMatrixDisplay(confusion_matrix=cm, display_labels=[0, 1])\n",
    "    disp.plot(cmap=plt.cm.Blues)\n",
    "    plt.title(title)\n",
    "    plt.show()\n",
    "\n",
    "# Plot confusion matrix for Naive Bayes\n",
    "plot_confusion_matrix(y_test, y_pred, \"Naive Bayes\")\n",
    "\n",
    "# Plot confusion matrix for Logistic Regression\n",
    "plot_confusion_matrix(y_test, y_pred_logistic, \"Logistic Regression\")\n",
    "\n",
    "# Plot confusion matrix for Random Forest\n",
    "plot_confusion_matrix(y_test, y_pred_rf, \"Random Forest\")"
   ]
  },
  {
   "cell_type": "markdown",
   "metadata": {},
   "source": [
    "13. Overtfitting check"
   ]
  },
  {
   "cell_type": "code",
   "execution_count": 15,
   "metadata": {},
   "outputs": [
    {
     "name": "stdout",
     "output_type": "stream",
     "text": [
      "Naive Bayes - Train Accuracy: 0.9098, Test Accuracy: 0.9070\n",
      "Naive Bayes shows no significant overfitting.\n",
      "Logistic Regression - Train Accuracy: 0.9290, Test Accuracy: 0.9211\n",
      "Logistic Regression shows no significant overfitting.\n",
      "Random Forest - Train Accuracy: 0.9990, Test Accuracy: 0.9079\n",
      "Warning: Random Forest might be overfitting!\n"
     ]
    }
   ],
   "source": [
    "#Overfitting verification:\n",
    "\n",
    "# Function to check overfitting\n",
    "def check_overfitting(model, X_train, y_train, X_test, y_test, name):\n",
    "    train_acc = model.score(X_train, y_train)\n",
    "    test_acc = model.score(X_test, y_test)\n",
    "    print(f\"{name} - Train Accuracy: {train_acc:.4f}, Test Accuracy: {test_acc:.4f}\")\n",
    "    if abs(train_acc - test_acc) > 0.05:\n",
    "        print(f\"Warning: {name} might be overfitting!\")\n",
    "    else:\n",
    "        print(f\"{name} shows no significant overfitting.\")\n",
    "\n",
    "# Check for Naive Bayes\n",
    "check_overfitting(model, X_train_tfidf, y_train, X_test_tfidf, y_test, \"Naive Bayes\")\n",
    "\n",
    "# Check for Logistic Regression\n",
    "check_overfitting(logistic_model, X_train_tfidf, y_train, X_test_tfidf, y_test, \"Logistic Regression\")\n",
    "\n",
    "# Check for Random Forest \n",
    "check_overfitting(random_forest_model, X_train_tfidf, y_train, X_test_tfidf, y_test, \"Random Forest\")"
   ]
  },
  {
   "cell_type": "markdown",
   "metadata": {},
   "source": [
    "14. Verification of Model stability\n",
    "\n",
    "why?\n",
    "To check if the Logistic Regression model is stable and performs well across different splits of the training data, ensuring it generalizes to unseen data. "
   ]
  },
  {
   "cell_type": "code",
   "execution_count": 16,
   "metadata": {},
   "outputs": [
    {
     "name": "stdout",
     "output_type": "stream",
     "text": [
      "Logistic Regression Cross-Validation Accuracy: 0.9185\n"
     ]
    }
   ],
   "source": [
    "from sklearn.model_selection import cross_val_score\n",
    "import numpy as np  # Asegúrate de importar numpy\n",
    "\n",
    "# Aplicar cross-validation en Logistic Regression\n",
    "cv_scores = cross_val_score(logistic_model, X_train_tfidf, y_train, cv=5)\n",
    "print(f\"Logistic Regression Cross-Validation Accuracy: {np.mean(cv_scores):.4f}\")"
   ]
  },
  {
   "cell_type": "markdown",
   "metadata": {},
   "source": [
    "15. Changing Labels and Generating New File"
   ]
  },
  {
   "cell_type": "code",
   "execution_count": 36,
   "metadata": {},
   "outputs": [
    {
     "name": "stdout",
     "output_type": "stream",
     "text": [
      "Index(['2', 'copycat muslim terrorist arrested with assault weapons'], dtype='object')\n",
      "   2 copycat muslim terrorist arrested with assault weapons\n",
      "0  2  wow! chicago protester caught on camera admits...    \n",
      "1  2   germany's fdp look to fill schaeuble's big shoes    \n",
      "2  2  mi school sends welcome back packet warning ki...    \n",
      "3  2  u.n. seeks 'massive' aid boost amid rohingya '...    \n",
      "4  2  did oprah just leave ‚nasty‚ hillary wishing s...    \n"
     ]
    }
   ],
   "source": [
    "\n",
    "import pandas as pd\n",
    "\n",
    "# Correct file name\n",
    "file_name = 'testing_data_lowercase_nolabels.csv'\n",
    "\n",
    "# Load the file with proper delimiter handling\n",
    "try:\n",
    "    data_evaluation = pd.read_csv(file_name, delimiter='\\t')  # Specify '\\t' if tab-separated\n",
    "    print(data_evaluation.columns)  # Display column names to confirm structure\n",
    "    print(data_evaluation.head())  # Display first few rows\n",
    "except FileNotFoundError:\n",
    "    print(f\"Error: File '{file_name}' not found. Please check the file location and try again.\")\n",
    "\n",
    "    file_name = '/path/to/your/testing_data_lowercase_nolabels.csv'"
   ]
  },
  {
   "cell_type": "code",
   "execution_count": 37,
   "metadata": {},
   "outputs": [],
   "source": [
    "#Test Data\n",
    "\n",
    "# Reduce the dataset size to speed up development (optional)\n",
    "#data_evaluation = data_evaluation.head(1000)  # Use a subset for faster development\n",
    "#print(data_evaluation.shape)\n",
    "\n",
    "# Handle missing values\n",
    "data_evaluation.fillna('', inplace=True)"
   ]
  },
  {
   "cell_type": "code",
   "execution_count": 38,
   "metadata": {},
   "outputs": [
    {
     "data": {
      "text/html": [
       "<div>\n",
       "<style scoped>\n",
       "    .dataframe tbody tr th:only-of-type {\n",
       "        vertical-align: middle;\n",
       "    }\n",
       "\n",
       "    .dataframe tbody tr th {\n",
       "        vertical-align: top;\n",
       "    }\n",
       "\n",
       "    .dataframe thead th {\n",
       "        text-align: right;\n",
       "    }\n",
       "</style>\n",
       "<table border=\"1\" class=\"dataframe\">\n",
       "  <thead>\n",
       "    <tr style=\"text-align: right;\">\n",
       "      <th></th>\n",
       "      <th>2</th>\n",
       "      <th>copycat muslim terrorist arrested with assault weapons</th>\n",
       "    </tr>\n",
       "  </thead>\n",
       "  <tbody>\n",
       "    <tr>\n",
       "      <th>0</th>\n",
       "      <td>2</td>\n",
       "      <td>wow! chicago protester caught on camera admits...</td>\n",
       "    </tr>\n",
       "    <tr>\n",
       "      <th>1</th>\n",
       "      <td>2</td>\n",
       "      <td>germany's fdp look to fill schaeuble's big shoes</td>\n",
       "    </tr>\n",
       "    <tr>\n",
       "      <th>2</th>\n",
       "      <td>2</td>\n",
       "      <td>mi school sends welcome back packet warning ki...</td>\n",
       "    </tr>\n",
       "    <tr>\n",
       "      <th>3</th>\n",
       "      <td>2</td>\n",
       "      <td>u.n. seeks 'massive' aid boost amid rohingya '...</td>\n",
       "    </tr>\n",
       "    <tr>\n",
       "      <th>4</th>\n",
       "      <td>2</td>\n",
       "      <td>did oprah just leave ‚nasty‚ hillary wishing s...</td>\n",
       "    </tr>\n",
       "  </tbody>\n",
       "</table>\n",
       "</div>"
      ],
      "text/plain": [
       "   2 copycat muslim terrorist arrested with assault weapons\n",
       "0  2  wow! chicago protester caught on camera admits...    \n",
       "1  2   germany's fdp look to fill schaeuble's big shoes    \n",
       "2  2  mi school sends welcome back packet warning ki...    \n",
       "3  2  u.n. seeks 'massive' aid boost amid rohingya '...    \n",
       "4  2  did oprah just leave ‚nasty‚ hillary wishing s...    "
      ]
     },
     "execution_count": 38,
     "metadata": {},
     "output_type": "execute_result"
    }
   ],
   "source": [
    "data_evaluation.head()"
   ]
  },
  {
   "cell_type": "code",
   "execution_count": 39,
   "metadata": {},
   "outputs": [
    {
     "data": {
      "text/html": [
       "<div>\n",
       "<style scoped>\n",
       "    .dataframe tbody tr th:only-of-type {\n",
       "        vertical-align: middle;\n",
       "    }\n",
       "\n",
       "    .dataframe tbody tr th {\n",
       "        vertical-align: top;\n",
       "    }\n",
       "\n",
       "    .dataframe thead th {\n",
       "        text-align: right;\n",
       "    }\n",
       "</style>\n",
       "<table border=\"1\" class=\"dataframe\">\n",
       "  <thead>\n",
       "    <tr style=\"text-align: right;\">\n",
       "      <th></th>\n",
       "      <th>2</th>\n",
       "      <th>copycat muslim terrorist arrested with assault weapons</th>\n",
       "    </tr>\n",
       "  </thead>\n",
       "  <tbody>\n",
       "    <tr>\n",
       "      <th>9978</th>\n",
       "      <td>2</td>\n",
       "      <td>boom! fox news leftist chris wallace attempts ...</td>\n",
       "    </tr>\n",
       "    <tr>\n",
       "      <th>9979</th>\n",
       "      <td>2</td>\n",
       "      <td>here it is: list of democrat hypocrites who vo...</td>\n",
       "    </tr>\n",
       "    <tr>\n",
       "      <th>9980</th>\n",
       "      <td>2</td>\n",
       "      <td>new fires ravage rohingya villages in northwes...</td>\n",
       "    </tr>\n",
       "    <tr>\n",
       "      <th>9981</th>\n",
       "      <td>2</td>\n",
       "      <td>meals on wheels shuts the lyin‚ lefties up wit...</td>\n",
       "    </tr>\n",
       "    <tr>\n",
       "      <th>9982</th>\n",
       "      <td>2</td>\n",
       "      <td>brilliant! tucker carlson and ayaan hirsi ali ...</td>\n",
       "    </tr>\n",
       "  </tbody>\n",
       "</table>\n",
       "</div>"
      ],
      "text/plain": [
       "      2 copycat muslim terrorist arrested with assault weapons\n",
       "9978  2  boom! fox news leftist chris wallace attempts ...    \n",
       "9979  2  here it is: list of democrat hypocrites who vo...    \n",
       "9980  2  new fires ravage rohingya villages in northwes...    \n",
       "9981  2  meals on wheels shuts the lyin‚ lefties up wit...    \n",
       "9982  2  brilliant! tucker carlson and ayaan hirsi ali ...    "
      ]
     },
     "execution_count": 39,
     "metadata": {},
     "output_type": "execute_result"
    }
   ],
   "source": [
    "data_evaluation.tail()"
   ]
  },
  {
   "cell_type": "code",
   "execution_count": 40,
   "metadata": {},
   "outputs": [],
   "source": [
    "# Lemmatizer\n",
    "lemmatizer = WordNetLemmatizer()\n",
    "\n",
    "# Function to clean text using lemmatization\n",
    "def preprocess_text(text):\n",
    "    text = re.sub(r'<.*?>', '', text)  # Remove HTML tags\n",
    "    text = re.sub(r'[^\\w\\s]', '', text)  # Remove special characters\n",
    "    text = re.sub(r'\\d+', '', text)  # Remove numbers\n",
    "    text = re.sub(r'\\b\\w\\b', '', text)  # Remove single characters\n",
    "    text = re.sub(r'\\s+', ' ', text).strip()  # Replace multiple spaces with a single one\n",
    "    text = text.lower()  # Convert to lowercase\n",
    "\n",
    "    # Apply lemmatization to each word\n",
    "    return \" \".join([lemmatizer.lemmatize(word) for word in text.split()])\n"
   ]
  },
  {
   "cell_type": "code",
   "execution_count": 41,
   "metadata": {},
   "outputs": [],
   "source": [
    "data_evaluation.columns = ['label', 'sentence']"
   ]
  },
  {
   "cell_type": "code",
   "execution_count": 42,
   "metadata": {},
   "outputs": [
    {
     "name": "stdout",
     "output_type": "stream",
     "text": [
      "Sample Data with Extra Features:\n",
      "   label                                           sentence  money_mark  \\\n",
      "0     2  wow! chicago protester caught on camera admits...           1   \n",
      "1     2   germany's fdp look to fill schaeuble's big shoes           1   \n",
      "2     2  mi school sends welcome back packet warning ki...           1   \n",
      "3     2  u.n. seeks 'massive' aid boost amid rohingya '...           1   \n",
      "4     2  did oprah just leave ‚nasty‚ hillary wishing s...           1   \n",
      "\n",
      "   suspicious_words  text_len  \n",
      "0                 0       109  \n",
      "1                 0        48  \n",
      "2                 0        84  \n",
      "3                 0        76  \n",
      "4                 0        84  \n"
     ]
    }
   ],
   "source": [
    "# Extra Features and SPAM words cleaner\n",
    "money_symbols = \"|\".join([\"euro\", \"dollar\", \"pound\", \"€\", \"$\"])\n",
    "suspicious_words = \"|\".join([\"free\", \"cheap\", \"money\", \"account\", \"bank\", \"fund\", \"win\", \"password\"])\n",
    "\n",
    "data_evaluation['money_mark'] = data_evaluation['sentence'].str.contains(money_symbols, case=False) * 1\n",
    "data_evaluation['suspicious_words'] = data_evaluation['sentence'].str.contains(suspicious_words, case=False) * 1\n",
    "data_evaluation['text_len'] = data_evaluation['sentence'].apply(lambda x: len(x))\n",
    "\n",
    "print(\"Sample Data with Extra Features:\\n\", data_evaluation.head())"
   ]
  },
  {
   "cell_type": "code",
   "execution_count": 43,
   "metadata": {},
   "outputs": [],
   "source": [
    "# Fit and transform the training data\n",
    "data_evaluation_tfidf = tfidf.transform(data_evaluation[\"sentence\"])"
   ]
  },
  {
   "cell_type": "code",
   "execution_count": 44,
   "metadata": {},
   "outputs": [],
   "source": [
    "# Predict with Logistic Regression\n",
    "data_evaluation_prediction = logistic_model.predict(data_evaluation_tfidf)"
   ]
  },
  {
   "cell_type": "code",
   "execution_count": 45,
   "metadata": {},
   "outputs": [],
   "source": [
    "#print(data_evaluation_prediction.range(1,10))"
   ]
  },
  {
   "cell_type": "code",
   "execution_count": 46,
   "metadata": {},
   "outputs": [],
   "source": [
    "data_evaluation[\"label\"] = data_evaluation_prediction"
   ]
  },
  {
   "cell_type": "code",
   "execution_count": 47,
   "metadata": {},
   "outputs": [
    {
     "data": {
      "text/html": [
       "<div>\n",
       "<style scoped>\n",
       "    .dataframe tbody tr th:only-of-type {\n",
       "        vertical-align: middle;\n",
       "    }\n",
       "\n",
       "    .dataframe tbody tr th {\n",
       "        vertical-align: top;\n",
       "    }\n",
       "\n",
       "    .dataframe thead th {\n",
       "        text-align: right;\n",
       "    }\n",
       "</style>\n",
       "<table border=\"1\" class=\"dataframe\">\n",
       "  <thead>\n",
       "    <tr style=\"text-align: right;\">\n",
       "      <th></th>\n",
       "      <th>label</th>\n",
       "      <th>sentence</th>\n",
       "      <th>money_mark</th>\n",
       "      <th>suspicious_words</th>\n",
       "      <th>text_len</th>\n",
       "    </tr>\n",
       "  </thead>\n",
       "  <tbody>\n",
       "    <tr>\n",
       "      <th>0</th>\n",
       "      <td>0</td>\n",
       "      <td>wow! chicago protester caught on camera admits...</td>\n",
       "      <td>1</td>\n",
       "      <td>0</td>\n",
       "      <td>109</td>\n",
       "    </tr>\n",
       "    <tr>\n",
       "      <th>1</th>\n",
       "      <td>1</td>\n",
       "      <td>germany's fdp look to fill schaeuble's big shoes</td>\n",
       "      <td>1</td>\n",
       "      <td>0</td>\n",
       "      <td>48</td>\n",
       "    </tr>\n",
       "    <tr>\n",
       "      <th>2</th>\n",
       "      <td>0</td>\n",
       "      <td>mi school sends welcome back packet warning ki...</td>\n",
       "      <td>1</td>\n",
       "      <td>0</td>\n",
       "      <td>84</td>\n",
       "    </tr>\n",
       "    <tr>\n",
       "      <th>3</th>\n",
       "      <td>1</td>\n",
       "      <td>u.n. seeks 'massive' aid boost amid rohingya '...</td>\n",
       "      <td>1</td>\n",
       "      <td>0</td>\n",
       "      <td>76</td>\n",
       "    </tr>\n",
       "    <tr>\n",
       "      <th>4</th>\n",
       "      <td>0</td>\n",
       "      <td>did oprah just leave ‚nasty‚ hillary wishing s...</td>\n",
       "      <td>1</td>\n",
       "      <td>0</td>\n",
       "      <td>84</td>\n",
       "    </tr>\n",
       "  </tbody>\n",
       "</table>\n",
       "</div>"
      ],
      "text/plain": [
       "   label                                           sentence  money_mark  \\\n",
       "0      0  wow! chicago protester caught on camera admits...           1   \n",
       "1      1   germany's fdp look to fill schaeuble's big shoes           1   \n",
       "2      0  mi school sends welcome back packet warning ki...           1   \n",
       "3      1  u.n. seeks 'massive' aid boost amid rohingya '...           1   \n",
       "4      0  did oprah just leave ‚nasty‚ hillary wishing s...           1   \n",
       "\n",
       "   suspicious_words  text_len  \n",
       "0                 0       109  \n",
       "1                 0        48  \n",
       "2                 0        84  \n",
       "3                 0        76  \n",
       "4                 0        84  "
      ]
     },
     "execution_count": 47,
     "metadata": {},
     "output_type": "execute_result"
    }
   ],
   "source": [
    "data_evaluation.head()"
   ]
  },
  {
   "cell_type": "code",
   "execution_count": 48,
   "metadata": {},
   "outputs": [
    {
     "data": {
      "text/html": [
       "<div>\n",
       "<style scoped>\n",
       "    .dataframe tbody tr th:only-of-type {\n",
       "        vertical-align: middle;\n",
       "    }\n",
       "\n",
       "    .dataframe tbody tr th {\n",
       "        vertical-align: top;\n",
       "    }\n",
       "\n",
       "    .dataframe thead th {\n",
       "        text-align: right;\n",
       "    }\n",
       "</style>\n",
       "<table border=\"1\" class=\"dataframe\">\n",
       "  <thead>\n",
       "    <tr style=\"text-align: right;\">\n",
       "      <th></th>\n",
       "      <th>label</th>\n",
       "      <th>sentence</th>\n",
       "      <th>money_mark</th>\n",
       "      <th>suspicious_words</th>\n",
       "      <th>text_len</th>\n",
       "    </tr>\n",
       "  </thead>\n",
       "  <tbody>\n",
       "    <tr>\n",
       "      <th>0</th>\n",
       "      <td>0</td>\n",
       "      <td>wow! chicago protester caught on camera admits...</td>\n",
       "      <td>1</td>\n",
       "      <td>0</td>\n",
       "      <td>109</td>\n",
       "    </tr>\n",
       "    <tr>\n",
       "      <th>1</th>\n",
       "      <td>1</td>\n",
       "      <td>germany's fdp look to fill schaeuble's big shoes</td>\n",
       "      <td>1</td>\n",
       "      <td>0</td>\n",
       "      <td>48</td>\n",
       "    </tr>\n",
       "    <tr>\n",
       "      <th>2</th>\n",
       "      <td>0</td>\n",
       "      <td>mi school sends welcome back packet warning ki...</td>\n",
       "      <td>1</td>\n",
       "      <td>0</td>\n",
       "      <td>84</td>\n",
       "    </tr>\n",
       "    <tr>\n",
       "      <th>3</th>\n",
       "      <td>1</td>\n",
       "      <td>u.n. seeks 'massive' aid boost amid rohingya '...</td>\n",
       "      <td>1</td>\n",
       "      <td>0</td>\n",
       "      <td>76</td>\n",
       "    </tr>\n",
       "    <tr>\n",
       "      <th>4</th>\n",
       "      <td>0</td>\n",
       "      <td>did oprah just leave ‚nasty‚ hillary wishing s...</td>\n",
       "      <td>1</td>\n",
       "      <td>0</td>\n",
       "      <td>84</td>\n",
       "    </tr>\n",
       "    <tr>\n",
       "      <th>...</th>\n",
       "      <td>...</td>\n",
       "      <td>...</td>\n",
       "      <td>...</td>\n",
       "      <td>...</td>\n",
       "      <td>...</td>\n",
       "    </tr>\n",
       "    <tr>\n",
       "      <th>9978</th>\n",
       "      <td>0</td>\n",
       "      <td>boom! fox news leftist chris wallace attempts ...</td>\n",
       "      <td>1</td>\n",
       "      <td>0</td>\n",
       "      <td>148</td>\n",
       "    </tr>\n",
       "    <tr>\n",
       "      <th>9979</th>\n",
       "      <td>0</td>\n",
       "      <td>here it is: list of democrat hypocrites who vo...</td>\n",
       "      <td>1</td>\n",
       "      <td>0</td>\n",
       "      <td>98</td>\n",
       "    </tr>\n",
       "    <tr>\n",
       "      <th>9980</th>\n",
       "      <td>1</td>\n",
       "      <td>new fires ravage rohingya villages in northwes...</td>\n",
       "      <td>1</td>\n",
       "      <td>0</td>\n",
       "      <td>64</td>\n",
       "    </tr>\n",
       "    <tr>\n",
       "      <th>9981</th>\n",
       "      <td>0</td>\n",
       "      <td>meals on wheels shuts the lyin‚ lefties up wit...</td>\n",
       "      <td>1</td>\n",
       "      <td>0</td>\n",
       "      <td>90</td>\n",
       "    </tr>\n",
       "    <tr>\n",
       "      <th>9982</th>\n",
       "      <td>0</td>\n",
       "      <td>brilliant! tucker carlson and ayaan hirsi ali ...</td>\n",
       "      <td>1</td>\n",
       "      <td>0</td>\n",
       "      <td>142</td>\n",
       "    </tr>\n",
       "  </tbody>\n",
       "</table>\n",
       "<p>9983 rows × 5 columns</p>\n",
       "</div>"
      ],
      "text/plain": [
       "      label                                           sentence  money_mark  \\\n",
       "0         0  wow! chicago protester caught on camera admits...           1   \n",
       "1         1   germany's fdp look to fill schaeuble's big shoes           1   \n",
       "2         0  mi school sends welcome back packet warning ki...           1   \n",
       "3         1  u.n. seeks 'massive' aid boost amid rohingya '...           1   \n",
       "4         0  did oprah just leave ‚nasty‚ hillary wishing s...           1   \n",
       "...     ...                                                ...         ...   \n",
       "9978      0  boom! fox news leftist chris wallace attempts ...           1   \n",
       "9979      0  here it is: list of democrat hypocrites who vo...           1   \n",
       "9980      1  new fires ravage rohingya villages in northwes...           1   \n",
       "9981      0  meals on wheels shuts the lyin‚ lefties up wit...           1   \n",
       "9982      0  brilliant! tucker carlson and ayaan hirsi ali ...           1   \n",
       "\n",
       "      suspicious_words  text_len  \n",
       "0                    0       109  \n",
       "1                    0        48  \n",
       "2                    0        84  \n",
       "3                    0        76  \n",
       "4                    0        84  \n",
       "...                ...       ...  \n",
       "9978                 0       148  \n",
       "9979                 0        98  \n",
       "9980                 0        64  \n",
       "9981                 0        90  \n",
       "9982                 0       142  \n",
       "\n",
       "[9983 rows x 5 columns]"
      ]
     },
     "execution_count": 48,
     "metadata": {},
     "output_type": "execute_result"
    }
   ],
   "source": [
    "data_evaluation"
   ]
  },
  {
   "cell_type": "code",
   "execution_count": 49,
   "metadata": {},
   "outputs": [],
   "source": [
    "# Save the data_evaluation dataset to a CSV file\n",
    "data_evaluation.to_csv('data_evaluation.csv', index=False)"
   ]
  },
  {
   "cell_type": "markdown",
   "metadata": {},
   "source": [
    "**FINISHED**"
   ]
  }
 ],
 "metadata": {
  "kernelspec": {
   "display_name": "base",
   "language": "python",
   "name": "python3"
  },
  "language_info": {
   "codemirror_mode": {
    "name": "ipython",
    "version": 3
   },
   "file_extension": ".py",
   "mimetype": "text/x-python",
   "name": "python",
   "nbconvert_exporter": "python",
   "pygments_lexer": "ipython3",
   "version": "3.12.4"
  }
 },
 "nbformat": 4,
 "nbformat_minor": 2
}
